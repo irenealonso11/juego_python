{
 "cells": [
  {
   "cell_type": "markdown",
   "metadata": {},
   "source": [
    "#OBJETIVO\n",
    "El objetivo del juego es ganar a tu ordenador eligiendo la opcion que le gane.\n",
    "\n",
    "- El juego consiste en hacer preguntas de entretenimiento y que el jugador adivine la respuesta correcta.\n",
    "\n",
    "- Cada pregunta tiene una respuesta única y correcta.\n",
    "\n",
    "- El jugador tiene un número limitado de intentos para responder correctamente a cada pregunta.\n",
    "\n",
    "- El juego sigue hasta que el jugador responda incorrectamente 3 de veces o haya respondido 5 preguntas correctamente.\n",
    "\n"
   ]
  },
  {
   "cell_type": "code",
   "execution_count": 1,
   "metadata": {},
   "outputs": [
    {
     "name": "stdout",
     "output_type": "stream",
     "text": [
      "Irene, ésta es tu pregunta: ¿Cuál es la saga de películas que sigue la historia de un grupo de magos en Hogwarts?:\n",
      "¡Has acertado, Irene! Llevas 1 aciertos.\n",
      "Irene, ésta es tu pregunta: ¿Qué superhéroe es conocido como el Hombre Araña?:\n",
      "¡Has acertado, Irene! Llevas 2 aciertos.\n",
      "Irene, ésta es tu pregunta: ¿Cómo se llama el protagonista de 'El Señor de los Anillos'?:\n",
      "¡Has acertado, Irene! Llevas 3 aciertos.\n",
      "Irene, ésta es tu pregunta: ¿Qué agente de la T.I.A. con gafas y que siempre va de traje tiene una gran capacidad para disfrazarse?:\n",
      "¡Has acertado, Irene! Llevas 4 aciertos.\n",
      "Irene, ésta es tu pregunta: ¿Cómo se llama la cabra que acompaña a Heidi?:\n",
      "Suerte en la próxima, Irene. Llevas 1 fallos.\n",
      "Irene, ésta es tu pregunta: ¿Quién es la princesa de la película 'La Bella y la Bestia'?:\n",
      "¡Has acertado, Irene! Llevas 5 aciertos.\n",
      "¡Felicidades, Irene! ¡Has ganado el juego con 5 aciertos!\n"
     ]
    }
   ],
   "source": [
    "import random\n",
    "\n",
    "# Diccionario de preguntas y respuestas\n",
    "preguntas_respuestas = {\n",
    "    \"¿Qué agente de la T.I.A. con gafas y que siempre va de traje tiene una gran capacidad para disfrazarse?\": \"Mortadelo\",\n",
    "    \"¿Cuál es la fruta favorita de los minions?\": \"platanos\",\n",
    "    \"¿Cuál es el apellido de Rocky en la saga de películas del mismo título?\": \"Balboa\",\n",
    "    \"¿Qué familia vive en la ciudad de Springfield?\": \"Los Simpsons\",\n",
    "    \"¿Qué personaje de ficción fue creado por Elvira Lindo?\": \"Manolito Gafotas\",\n",
    "    \"¿Cómo se llama el perro de Tintín: ¿Milú, Pluto o Totó?\": \"Milú\",\n",
    "    \"¿Cómo se llama la cabra que acompaña a Heidi?\": \"Copito de nieve\",\n",
    "    \"¿Cómo se llama a las personas que no poseen magia en la saga de Harry Potter?\": \"Muggles\",\n",
    "    \"¿Cómo se llama el protagonista de 'El Señor de los Anillos'?\": \"Frodo\",\n",
    "    \"¿Qué superhéroe es conocido como el Hombre Araña?\": \"SpiderMan\",\n",
    "    \"¿Cuál es la saga de películas que sigue la historia de un grupo de magos en Hogwarts?\": \"Harry Potter\",\n",
    "    \"¿Quién es la princesa de la película 'La Bella y la Bestia'?\": \"Bella\",\n",
    "    \"¿Qué serie de televisión presenta a un grupo de amigos que viven en Nueva York?\": \"Friends\",\n",
    "}\n",
    "\n",
    "\n",
    "# Contadores\n",
    "aciertos = 0\n",
    "fallos = 0\n",
    "\n",
    "# Preguntar el nombre del jugador\n",
    "nombre = input(\"¡Hola! 👋 ¿Cómo te llamas?: \")\n",
    "\n",
    "# Ciclo del juego\n",
    "while aciertos < 5 and fallos < 3:\n",
    "    # Selección aleatoria de una pregunta\n",
    "    pregunta, respuesta_correcta = random.choice(list(preguntas_respuestas.items()))\n",
    "    \n",
    "    # Lanzar la pregunta\n",
    "    print(f\"{nombre}, ésta es tu pregunta: {pregunta}:\")\n",
    "    respuesta_jugador = input(pregunta + \"Escribe 'salir' si deseas abandonar el juego): \").strip()\n",
    "    \n",
    "    # Comprobar si el jugador quiere abandonar\n",
    "    if respuesta_jugador.lower() == 'salir':\n",
    "        print(f\"Has decidido abandonar el juego, {nombre}. ¡Hasta la próxima!👋\")\n",
    "        break\n",
    "\n",
    "    # Verificar la respuesta\n",
    "    if respuesta_jugador.lower() == respuesta_correcta.lower():\n",
    "        aciertos += 1\n",
    "        print(f\"¡Has acertado 🥳, {nombre}! Llevas {aciertos} aciertos.\")\n",
    "    else:\n",
    "        fallos += 1\n",
    "        print(f\"Suerte en la próxima 😓, {nombre}. Llevas {fallos} fallos.\")\n",
    "    \n",
    "    # Comprobar si ha ganado o perdido\n",
    "    if aciertos == 5:\n",
    "        print(f\"¡Felicidades 🥳🥳🥇🥇, {nombre}! ¡Has ganado el juego con {aciertos} aciertos!\")\n",
    "        break\n",
    "    elif fallos == 3:\n",
    "        print(f\"Lo siento, {nombre}. ¡Has perdido el juego con {fallos} fallos! 😭😭\")\n",
    "        break\n"
   ]
  }
 ],
 "metadata": {
  "kernelspec": {
   "display_name": "base",
   "language": "python",
   "name": "python3"
  },
  "language_info": {
   "codemirror_mode": {
    "name": "ipython",
    "version": 3
   },
   "file_extension": ".py",
   "mimetype": "text/x-python",
   "name": "python",
   "nbconvert_exporter": "python",
   "pygments_lexer": "ipython3",
   "version": "3.12.4"
  }
 },
 "nbformat": 4,
 "nbformat_minor": 2
}
