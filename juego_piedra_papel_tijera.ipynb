{
 "cells": [
  {
   "cell_type": "code",
   "execution_count": null,
   "metadata": {},
   "outputs": [],
   "source": [
    "nombre_jugador=input(\"escribe tu nombre\")\n",
    "print(nombre_jugador)"
   ]
  },
  {
   "cell_type": "code",
   "execution_count": null,
   "metadata": {},
   "outputs": [],
   "source": [
    "import random\n",
    "\n",
    "juego= [\"piedra\", \"papel\", \"tijera\"]\n",
    "\n",
    "eleccion_jugador=input(f\"elije: {juego}\")\n",
    "Alexa  = random.choice(juego)\n",
    "\n",
    "print(f\"{nombre_jugador} ha elegido: {eleccion_jugador}\")\n",
    "print(f\"Alexa ha elegido: {Alexa}\")\n",
    "\n",
    "if eleccion_jugador==\"piedra\" and Alexa==\"papel\":\n",
    "    print(f\"Resultado:{nombre_jugador} pierde, Alexa gana\")\n",
    "elif eleccion_jugador==\"piedra\" and Alexa==\"tijera\":\n",
    "    print(f\"Resultado: {nombre_jugador} gana, Alexa pierde\")\n",
    "elif eleccion_jugador==\"papel\" and Alexa==\"piedra\":\n",
    "    print(f\"Resultado: {nombre_jugador} gana, Alexa pierde\")\n",
    "elif eleccion_jugador==\"papel\" and Alexa ==\"tijera\":\n",
    "    print(f\"Resultado:{nombre_jugador} pierde, Alexa gana\")\n",
    "elif eleccion_jugador==\"tijera\" and Alexa==\"piedra\":\n",
    "    print(f\"Resultado:{nombre_jugador} pierde, Alexa gana\")\n",
    "elif eleccion_jugador==\"tijera\" and Alexa==\"papel\":\n",
    "    print(f\"Resultado: {nombre_jugador} gana, Alexa pierde\")\n",
    "else: \n",
    "    print(\"Resultado: empate\")"
   ]
  }
 ],
 "metadata": {
  "kernelspec": {
   "display_name": "base",
   "language": "python",
   "name": "python3"
  },
  "language_info": {
   "codemirror_mode": {
    "name": "ipython",
    "version": 3
   },
   "file_extension": ".py",
   "mimetype": "text/x-python",
   "name": "python",
   "nbconvert_exporter": "python",
   "pygments_lexer": "ipython3",
   "version": "3.12.4"
  }
 },
 "nbformat": 4,
 "nbformat_minor": 2
}
