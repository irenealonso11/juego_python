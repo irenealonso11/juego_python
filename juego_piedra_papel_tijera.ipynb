{
 "cells": [
  {
   "cell_type": "code",
   "execution_count": 1,
   "metadata": {},
   "outputs": [],
   "source": [
    "import random"
   ]
  },
  {
   "cell_type": "code",
   "execution_count": 2,
   "metadata": {},
   "outputs": [
    {
     "name": "stdout",
     "output_type": "stream",
     "text": [
      "\n"
     ]
    }
   ],
   "source": [
    "nombre_jugador=input(\"escribe tu nombre\")\n",
    "print(nombre_jugador)"
   ]
  },
  {
   "cell_type": "markdown",
   "metadata": {},
   "source": [
    "#OBJETIVO\n",
    "El objetivo del juego es ganar a tu ordenador eligiendo la opcion que le gane.\n",
    "\n",
    "· Reglas del juego:\n",
    "\n",
    "- Piedra: La piedra gana a las tijeras (rompe las tijeras) pero pierdo contra el papel (el papel envuelve la piedra).\n",
    "\n",
    "- Papel: El papel gana contra la piedra y pierde contra las tijeras(las tijeras cortan el papel).\n",
    "\n",
    "- Tijeras: Las tijeras ganan contra el papel pero pierden contra la piedra.\n",
    "\n",
    "Si ambos jugadores eligen la misma opción, se considera empate y se juega de nuevo.\n",
    "\n",
    "\n"
   ]
  },
  {
   "cell_type": "code",
   "execution_count": 5,
   "metadata": {},
   "outputs": [
    {
     "name": "stdout",
     "output_type": "stream",
     "text": [
      "El usuario eligió: piedra\n",
      "El ordenador eligió: piedra\n",
      "¡Es un empate! 🙅‍♀️\n",
      "El usuario eligió: papel\n",
      "El ordenador eligió: piedra\n",
      "¡Ganaste esta ronda 🥳! El marcador es: Usuario 1 - Computadora 0\n",
      "El usuario eligió: tijeras\n",
      "El ordenador eligió: papel\n",
      "¡Ganaste esta ronda 🥳! El marcador es: Usuario 2 - Computadora 0\n",
      "El usuario eligió: papel\n",
      "El ordenador eligió: papel\n",
      "¡Es un empate! 🙅‍♀️\n",
      "El usuario eligió: tijeras\n",
      "El ordenador eligió: piedra\n",
      "¡Es un empate! 🙅‍♀️\n",
      "El usuario eligió: piedra\n",
      "El ordenador eligió: tijeras\n",
      "¡Ganaste esta ronda 🥳! El marcador es: Usuario 3 - Computadora 0\n",
      "¡Felicidades!🥳🥳🥳🥇🥇🥇 Has ganado el juego.\n"
     ]
    }
   ],
   "source": [
    "# Opciones posibles\n",
    "opciones = [\"piedra\", \"papel\" , \"tijeras\"]\n",
    "# Contadores de victorias\n",
    "victorias_usuario = 0\n",
    "victorias_ordenador = 0\n",
    "# Bucle principal del juego\n",
    "while victorias_usuario < 3 and victorias_ordenador < 3:\n",
    "    # Solicitar la elección del usuario\n",
    "    eleccion_usuario = input(\"Elige piedra 🪨, papel 🧻o tijeras ✂️: \").lower()\n",
    "    print(f\"El usuario eligió: {eleccion_usuario}\")\n",
    "    # Validar la entrada del usuario\n",
    "    if eleccion_usuario not in opciones:\n",
    "        print(\"Opción no válida ☹️. Intenta de nuevo.\")\n",
    "        continue\n",
    "    eleccion_ordenador = random.choice(opciones)\n",
    "    print(f\"El ordenador eligió: {eleccion_ordenador}\")\n",
    "# Determinar el ganador de la ronda\n",
    "    if eleccion_usuario == eleccion_ordenador:\n",
    "        resultado = \"empate\"\n",
    "    \n",
    "    elif (eleccion_usuario == \"piedra\" and eleccion_ordenador == \"tijeras\") or \\\n",
    "         (eleccion_usuario == \"papel\" and eleccion_ordenador == \"piedra\") or \\\n",
    "         (eleccion_usuario == \"tijeras\" and eleccion_ordenador == \"papel\"):\n",
    "        resultado = \"Gana el jugador\"\n",
    "    \n",
    "    else:\n",
    "        resultado = \"Gana el ordenador 😖\"\n",
    "    \n",
    "    \n",
    "    if resultado == \"Gana el jugador\":\n",
    "        victorias_usuario += 1\n",
    "        print(f\"¡Ganaste esta ronda 🥳! El marcador es: Usuario {victorias_usuario} - Computadora {victorias_ordenador}\")\n",
    "    \n",
    "    elif resultado == \"Gana el ordenador\":\n",
    "        victorias_ordenador += 1\n",
    "        print(f\"El ordenador ganó esta ronda. 😫 El marcador es: Usuario {victorias_usuario} - Ordenador {victorias_ordenador}\")\n",
    "    \n",
    "    else:\n",
    "        print(\"¡Es un empate! 🙅‍♀️\")\n",
    "# Anunciar el ganador final\n",
    "if victorias_usuario == 3:\n",
    "    print(\"¡Felicidades!🥳🥳🥳🥇🥇🥇 Has ganado el juego.\")\n",
    "else:\n",
    "    print(\"El ordenador ha ganado el juego. ¡Mejor suerte la próxima vez! 😭😭😭\")"
   ]
  }
 ],
 "metadata": {
  "kernelspec": {
   "display_name": "base",
   "language": "python",
   "name": "python3"
  },
  "language_info": {
   "codemirror_mode": {
    "name": "ipython",
    "version": 3
   },
   "file_extension": ".py",
   "mimetype": "text/x-python",
   "name": "python",
   "nbconvert_exporter": "python",
   "pygments_lexer": "ipython3",
   "version": "3.12.4"
  }
 },
 "nbformat": 4,
 "nbformat_minor": 2
}
