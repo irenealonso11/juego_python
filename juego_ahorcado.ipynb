{
 "cells": [
  {
   "cell_type": "code",
   "execution_count": 2,
   "metadata": {},
   "outputs": [],
   "source": [
    "import random\n"
   ]
  },
  {
   "cell_type": "markdown",
   "metadata": {},
   "source": [
    "#OBJETIVO\n",
    "Es adivinar la palabra secreta letra por letra antes de que se complete el dibujo del ahorcado.\n",
    "\n",
    "·Reglas del juego:\n",
    "\n",
    "- Selección de la palabra: El ordenador tiene una lista con una serie de palabras, la palabra elegida se escribe mostrando solo la cantidad de letras de la palabra.\n",
    "\n",
    "- Adivinanza de letras: El jugador intenta adivinar la palabra diciendo letra por letra \n",
    "    - Si la letra esta en la palabra, se revela las posición correspondiente.\n",
    "    - El jugador puede fallar un maximo de 6 veces.\n",
    "    - Si la letra no está en la palabra se resta un fallo.\n",
    "\n",
    "- Terminación del juego: \n",
    "    - El juego termina cuando el jugador adivina todas las palabras antes de que se complete el dibujo y gana\n",
    "    - Si el dibujo se completa antes de que se adivine la palabra, el ordenador gana y se revela la palabra secreta.\n"
   ]
  },
  {
   "cell_type": "code",
   "execution_count": 1,
   "metadata": {},
   "outputs": [
    {
     "name": "stdout",
     "output_type": "stream",
     "text": [
      "La palabra tiene ****4letras\n",
      "¡Bien hecho! La letra 'p' está en la palabra\n",
      "Posicion letra es 1\n",
      "['p', '*', '*', '*']\n",
      "['p', '*', '*', '*']\n",
      "Lo siento, la letra 'h' no está en la palabra.Solo puedes fallar 5veces más\n",
      "['p', '*', '*', '*']\n",
      "Lo siento, la letra 'h' no está en la palabra.Solo puedes fallar 4veces más\n",
      "¡Bien hecho! La letra 'a' está en la palabra\n",
      "Posicion letra es 2\n",
      "['p', 'a', '*', '*']\n",
      "['p', 'a', '*', '*']\n",
      "Lo siento, la letra 'h' no está en la palabra.Solo puedes fallar 3veces más\n",
      "['p', 'a', '*', '*']\n",
      "Lo siento, la letra 'nj' no está en la palabra.Solo puedes fallar 2veces más\n",
      "['p', 'a', '*', '*']\n",
      "Lo siento, la letra 'm' no está en la palabra.Solo puedes fallar 1veces más\n",
      "¡Bien hecho! La letra 'o' está en la palabra\n",
      "Posicion letra es 4\n",
      "['p', 'a', '*', 'o']\n",
      "Esta letra ya la habías acertado, ¡prueba con otra!\n",
      "['p', 'a', '*', 'o']\n",
      "Esta letra ya la habías acertado, ¡prueba con otra!\n",
      "['p', 'a', '*', 'o']\n",
      "Esta letra ya la habías acertado, ¡prueba con otra!\n",
      "['p', 'a', '*', 'o']\n",
      "¡Bien hecho! La letra 't' está en la palabra\n",
      "Posicion letra es 3\n",
      "['p', 'a', 't', 'o']\n",
      "¡Felicidades! Has ganado el juego\n"
     ]
    }
   ],
   "source": [
    "fallos = 6\n",
    "aciertos = 0\n",
    "palabra = \"pato\"\n",
    "long_palabra= len(palabra)\n",
    "palabra_oculta= \"*\" * long_palabra\n",
    "lista_aciertos = list(\"*\" * long_palabra)\n",
    "print(f\"La palabra tiene {palabra_oculta}{long_palabra}letras\")\n",
    "while 0 <= fallos <= 6:\n",
    "  letra_usuario = input(\"Indica la letra de la a z\")\n",
    "  if letra_usuario in lista_aciertos:\n",
    "    print(\"Esta letra ya la habías acertado, ¡prueba con otra!\")\n",
    "  elif letra_usuario in palabra:\n",
    "    aciertos += 1\n",
    "    print(f\"¡Bien hecho! La letra '{letra_usuario}' está en la palabra\")\n",
    "    posicion = palabra.find(letra_usuario.lower())\n",
    "    print(f\"Posicion letra es {posicion+1}\")\n",
    "    lista_aciertos[posicion] = letra_usuario\n",
    "  print(lista_aciertos)\n",
    "  if letra_usuario not in palabra:\n",
    "    fallos -= 1\n",
    "    if fallos >= 1:\n",
    "      print(f\"Lo siento, la letra '{letra_usuario}' no está en la palabra.Solo puedes fallar {fallos}veces más\")\n",
    "    elif fallos == 0:\n",
    "      print(f\"Lo siento, la letra '{letra_usuario}' no está en la palabra.No puedes volver a fallar\")\n",
    "    else: print(\"Lo siento, no te quedan más oportunidades...Has perdido.\")\n",
    "  if aciertos == long_palabra:\n",
    "    print(\"¡Felicidades! Has ganado el juego\")\n",
    "    break"
   ]
  },
  {
   "cell_type": "code",
   "execution_count": 3,
   "metadata": {},
   "outputs": [
    {
     "name": "stderr",
     "output_type": "stream",
     "text": [
      "<>:1: SyntaxWarning: invalid escape sequence '\\ '\n",
      "<>:1: SyntaxWarning: invalid escape sequence '\\ '\n",
      "C:\\Users\\irene\\AppData\\Local\\Temp\\ipykernel_19924\\687011253.py:1: SyntaxWarning: invalid escape sequence '\\ '\n",
      "  ahorcado = '''\n"
     ]
    }
   ],
   "source": [
    "ahorcado = '''\n",
    "      +---+\n",
    "      |   |\n",
    "      O   |\n",
    "     /|\\  |\n",
    "      |   |\n",
    "     / \\  |\n",
    "          |\n",
    "    ========='''"
   ]
  }
 ],
 "metadata": {
  "kernelspec": {
   "display_name": "base",
   "language": "python",
   "name": "python3"
  },
  "language_info": {
   "codemirror_mode": {
    "name": "ipython",
    "version": 3
   },
   "file_extension": ".py",
   "mimetype": "text/x-python",
   "name": "python",
   "nbconvert_exporter": "python",
   "pygments_lexer": "ipython3",
   "version": "3.12.6"
  }
 },
 "nbformat": 4,
 "nbformat_minor": 2
}
