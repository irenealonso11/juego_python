{
 "cells": [
  {
   "cell_type": "code",
   "execution_count": 1,
   "metadata": {},
   "outputs": [
    {
     "name": "stdout",
     "output_type": "stream",
     "text": [
      "La palabra tiene 3 letras.\n",
      "s\n",
      "Posicion letra es 0\n",
      "la lista de palabra oculta es ['*', '*', '*']\n",
      "la lista de palabra oculta tras añadir la letra del usuario es ['s', '*', '*']\n",
      "La palabra oculta es s**\n",
      "e\n",
      "Posicion letra es 1\n",
      "la lista de palabra oculta es ['s', '*', '*']\n",
      "la lista de palabra oculta tras añadir la letra del usuario es ['s', 'e', '*']\n",
      "La palabra oculta es se*\n",
      "x\n",
      "Has fallado, vuelve a intentarlo. Te queda 1 vidas\n",
      "c\n",
      "Posicion letra es 2\n",
      "la lista de palabra oculta es ['s', 'e', '*']\n",
      "la lista de palabra oculta tras añadir la letra del usuario es ['s', 'e', 'c']\n",
      "La palabra oculta es sec\n"
     ]
    }
   ],
   "source": [
    "# Testeado cuando NO se repiten letras dentro de la palabra\n",
    "# Definición de variables\n",
    "palabra_secreta = \"sec\"\n",
    "vidas_usuario = 2\n",
    "# Necesitamos una palabra formada con * con el mismo número de letras que la palabra secreta\n",
    "palabra_oculta = '*' * len(palabra_secreta)\n",
    "print(\"La palabra tiene\", len(palabra_secreta), \"letras.\")\n",
    "# Las condiciones para permanecer en el bucle es que la palabra oculta aún tenga * y que el usuario tenga más de 0 vidas. Si una sola no se cumple, salimos del bucle\n",
    "while \"*\" in palabra_oculta and vidas_usuario > 0:\n",
    "    letra_usuario = input(f\"Indica una letra de la {palabra_oculta}\")\n",
    "    print(letra_usuario)\n",
    "    if letra_usuario in palabra_secreta:\n",
    "        #Necesito sustituir el * en palabra oculta por la letra del usuario en la posición que ocupa esa letra en la palabra secreta\n",
    "        posicion_letra = palabra_secreta.find(letra_usuario.lower()) # Protejo la posibilidad de que el usuario utilice Mayus\n",
    "        print(f\"Posicion letra es {posicion_letra}\")\n",
    "       # Pasar palabra oculta a lista, sustituir el valor del usuario en la posicion que corresponde (por el indice), volver a convertirlo en un string y mostrarlo\n",
    "        palabra_oculta_lista = list(palabra_oculta)\n",
    "        print(f\"la lista de palabra oculta es {palabra_oculta_lista}\")\n",
    "        # Añado la letra del usuario en la posición donde corresponde\n",
    "        palabra_oculta_lista[posicion_letra] = letra_usuario\n",
    "        print(f\"la lista de palabra oculta tras añadir la letra del usuario es {palabra_oculta_lista}\")\n",
    "        # Paso la palabra oculta a string para mostrarla al usuario -> join y no usamos nada como delimitador, porque quiero una cadena de texto\n",
    "        palabra_oculta = \"\".join(palabra_oculta_lista)\n",
    "        print(f\"La palabra oculta es {palabra_oculta}\")\n",
    "    else:\n",
    "        vidas_usuario -= 1\n",
    "        print(f\"Has fallado, vuelve a intentarlo. Te queda {vidas_usuario} vidas\")\n",
    "\n",
    "\n",
    "\n",
    "\n",
    "\n",
    "\n",
    "\n",
    "\n",
    "\n",
    "\n",
    "\n"
   ]
  }
 ],
 "metadata": {
  "kernelspec": {
   "display_name": "base",
   "language": "python",
   "name": "python3"
  },
  "language_info": {
   "codemirror_mode": {
    "name": "ipython",
    "version": 3
   },
   "file_extension": ".py",
   "mimetype": "text/x-python",
   "name": "python",
   "nbconvert_exporter": "python",
   "pygments_lexer": "ipython3",
   "version": "3.12.4"
  }
 },
 "nbformat": 4,
 "nbformat_minor": 2
}
