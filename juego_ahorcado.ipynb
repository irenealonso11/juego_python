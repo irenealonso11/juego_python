{
 "cells": [
  {
   "cell_type": "code",
   "execution_count": 2,
   "metadata": {},
   "outputs": [],
   "source": [
    "import random\n"
   ]
  },
  {
   "cell_type": "markdown",
   "metadata": {},
   "source": [
    "# Testeado cuando NO se repiten letras dentro de la palabra\n",
    "# Definición de variables\n",
    "palabra_secreta = \"sec\"\n",
    "vidas_usuario = 2\n",
    "# Necesitamos una palabra formada con * con el mismo número de letras que la palabra secreta\n",
    "palabra_oculta = '*' * len(palabra_secreta)\n",
    "print(\"La palabra tiene\", len(palabra_secreta), \"letras.\")\n",
    "# Las condiciones para permanecer en el bucle es que la palabra oculta aún tenga * y que el usuario tenga más de 0 vidas. Si una sola no se cumple, salimos del bucle\n",
    "while \"*\" in palabra_oculta and vidas_usuario > 0:\n",
    "    letra_usuario = input(f\"Indica una letra de la {palabra_oculta}\")\n",
    "    print(letra_usuario)\n",
    "    if letra_usuario in palabra_secreta:\n",
    "        #Necesito sustituir el * en palabra oculta por la letra del usuario en la posición que ocupa esa letra en la palabra secreta\n",
    "        posicion_letra = palabra_secreta.find(letra_usuario.lower()) # Protejo la posibilidad de que el usuario utilice Mayus\n",
    "        print(f\"Posicion letra es {posicion_letra}\")\n",
    "       # Pasar palabra oculta a lista, sustituir el valor del usuario en la posicion que corresponde (por el indice), volver a convertirlo en un string y mostrarlo\n",
    "        palabra_oculta_lista = list(palabra_oculta)\n",
    "        print(f\"la lista de palabra oculta es {palabra_oculta_lista}\")\n",
    "        # Añado la letra del usuario en la posición donde corresponde\n",
    "        palabra_oculta_lista[posicion_letra] = letra_usuario\n",
    "        print(f\"la lista de palabra oculta tras añadir la letra del usuario es {palabra_oculta_lista}\")\n",
    "        # Paso la palabra oculta a string para mostrarla al usuario -> join y no usamos nada como delimitador, porque quiero una cadena de texto\n",
    "        palabra_oculta = \"\".join(palabra_oculta_lista)\n",
    "        print(f\"La palabra oculta es {palabra_oculta}\")\n",
    "    else:\n",
    "        vidas_usuario -= 1\n",
    "        print(f\"Has fallado, vuelve a intentarlo. Te queda {vidas_usuario} vidas\")"
   ]
  },
  {
   "cell_type": "markdown",
   "metadata": {},
   "source": []
  },
  {
   "cell_type": "markdown",
   "metadata": {},
   "source": [
    "#OBJETIVO\n",
    "Es adivinar la palabra secreta letra por letra antes de que se complete el dibujo del ahorcado.\n",
    "\n",
    "·Reglas del juego:\n",
    "\n",
    "- Selección de la palabra: El ordenador tiene una lista con una serie de palabras, la palabra elegida se escribe mostrando solo la cantidad de letras de la palabra.\n",
    "\n",
    "- Adivinanza de letras: El jugador intenta adivinar la palabra diciendo letra por letra \n",
    "    - Si la letra esta en la palabra, se revela las posición correspondiente.\n",
    "    - si la letra no está en la palabra...\n",
    "\n",
    "- Terminación del juego: \n",
    "    - El juego termina cuando el jugador adivina todas las palabras antes de que se complete el dibujo y gana\n",
    "    - Si el dibujo se completa antes de que se adivine la palabra, el ordenador gana y se revela la palabra secreta.\n"
   ]
  },
  {
   "cell_type": "code",
   "execution_count": 1,
   "metadata": {},
   "outputs": [
    {
     "name": "stdout",
     "output_type": "stream",
     "text": [
      "La palabra tiene **** letras\n",
      "La letra  esta en la palabra\n",
      "Posicion letra es 1\n"
     ]
    }
   ],
   "source": [
    "#lista_palabras = [\"pato\", \"menta\", \"queso\", \"gato\", \"fresa\", \"cesar\", \"letra\"]\n",
    "fallos = 6\n",
    "aciertos = 0\n",
    "palabra = \"pato\"\n",
    "lista_aciertos = []\n",
    "palabra_oculta= \"*\" * len(palabra)\n",
    "print(f\"La palabra tiene {palabra_oculta} letras\")\n",
    "\n",
    "while fallos > 0:\n",
    "\n",
    "    letra_usuario = input(\"Indica la letra de la a z\")\n",
    "\n",
    "    if letra_usuario in palabra:\n",
    "        aciertos += 1\n",
    "        print(f\"La letra {letra_usuario} esta en la palabra\")\n",
    "        posicion = palabra.find(letra_usuario.lower())\n",
    "        print(f\"Posicion letra es {posicion+1}\")\n",
    "    \n",
    "\n",
    "\n",
    "    \n",
    "\n"
   ]
  },
  {
   "cell_type": "code",
   "execution_count": 1,
   "metadata": {},
   "outputs": [
    {
     "name": "stdout",
     "output_type": "stream",
     "text": [
      "La palabra tiene **** letras\n",
      "La letra p esta en la palabra\n",
      "Posicion letra es 1\n",
      "['p', '*', '*', '*']\n",
      "La letra p esta en la palabra\n",
      "Posicion letra es 1\n",
      "['p', '*', '*', '*']\n",
      "La letra a esta en la palabra\n",
      "Posicion letra es 2\n",
      "['p', 'a', '*', '*']\n",
      "La letra t esta en la palabra\n",
      "Posicion letra es 3\n",
      "['p', 'a', 't', '*']\n",
      "La letra o esta en la palabra\n",
      "Posicion letra es 4\n",
      "['p', 'a', 't', 'o']\n"
     ]
    }
   ],
   "source": [
    "fallos = 6\n",
    "aciertos = 0\n",
    "palabra = \"pato\"\n",
    "palabra_oculta= \"*\" * len(palabra)\n",
    "lista_aciertos = list(\"*\" * len(palabra))\n",
    "\n",
    "print(f\"La palabra tiene {palabra_oculta} letras\")\n",
    "while fallos > 0:\n",
    "    letra_usuario = input(\"Indica la letra de la a z\")\n",
    "    if letra_usuario in palabra:\n",
    "        aciertos += 1\n",
    "        print(f\"La letra {letra_usuario} esta en la palabra\")\n",
    "        posicion = palabra.find(letra_usuario.lower())\n",
    "        print(f\"Posicion letra es {posicion+1}\")\n",
    "        lista_aciertos[posicion] = letra_usuario\n",
    "    print(lista_aciertos)"
   ]
  },
  {
   "cell_type": "code",
   "execution_count": null,
   "metadata": {},
   "outputs": [],
   "source": []
  },
  {
   "cell_type": "code",
   "execution_count": 2,
   "metadata": {},
   "outputs": [
    {
     "name": "stdout",
     "output_type": "stream",
     "text": [
      "La palabra tiene **** letras\n",
      "La letra a esta en la palabra\n",
      "['*', 'a', '*', '*']\n",
      "La letra p esta en la palabra\n",
      "['p', 'a', '*', '*']\n",
      "La letra o esta en la palabra\n",
      "['p', 'a', '*', 'o']\n",
      "La letra t esta en la palabra\n",
      "['p', 'a', 't', 'o']\n",
      "Has ganado\n"
     ]
    }
   ],
   "source": [
    "fallos = 6\n",
    "aciertos = 0\n",
    "palabra = \"pato\"\n",
    "palabra_oculta= \"*\" * len(palabra)\n",
    "lista_aciertos = list(\"*\" * len(palabra))\n",
    "print(f\"La palabra tiene {palabra_oculta} letras\")\n",
    "while fallos > 0:\n",
    "    letra_usuario = input(\"Indica la letra de la a z\")\n",
    "    if letra_usuario in palabra:\n",
    "        aciertos += 1\n",
    "        print(f\"La letra {letra_usuario} esta en la palabra\")\n",
    "        posicion = palabra.find(letra_usuario.lower())\n",
    "        #Se coloca la letra en la palabra\n",
    "        lista_aciertos[posicion] = letra_usuario\n",
    "    print(lista_aciertos)\n",
    "    if aciertos == len(palabra):\n",
    "        print(\"Has ganado\")\n",
    "        break\n",
    "\n"
   ]
  }
 ],
 "metadata": {
  "kernelspec": {
   "display_name": "base",
   "language": "python",
   "name": "python3"
  },
  "language_info": {
   "codemirror_mode": {
    "name": "ipython",
    "version": 3
   },
   "file_extension": ".py",
   "mimetype": "text/x-python",
   "name": "python",
   "nbconvert_exporter": "python",
   "pygments_lexer": "ipython3",
   "version": "3.12.4"
  }
 },
 "nbformat": 4,
 "nbformat_minor": 2
}
